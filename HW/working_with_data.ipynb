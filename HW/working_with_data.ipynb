{
 "cells": [
  {
   "cell_type": "markdown",
   "metadata": {},
   "source": [
    "Read the file daily.csv The file has ride data for the Durham, NC bus system over time\n",
    "\n",
    "Change day of week to a proper US ordered factor and show that it works using the table() function\n",
    "\n",
    "Use base R to create two new data frames (weekday and weekend) from the daily ride data with the appropriate observations.\n",
    "\n",
    "Use base R to create a  vector called winterRiders which include only the numbers of riders (n_riders) on weekends in the winter months of Jan, Feb, and Mar and produce a histogram of them.\n",
    "\n",
    "Use base R to do an even/odd (row number) split of the daily ride data into two dataframes; even and odd rows.\n",
    "\n",
    "Use base R to do a random (set seed to 440) sample split of the data into train (60%), test (40%) dataframes respectively."
   ]
  },
  {
   "cell_type": "code",
   "execution_count": 221,
   "metadata": {},
   "outputs": [],
   "source": [
    "import pandas as pd\n",
    "import numpy as np\n",
    "import datetime\n",
    "import tensorflow as tf\n",
    "import sklearn\n",
    "from sklearn.preprocessing import LabelEncoder\n",
    "\n",
    "\n",
    "from keras.models import Sequential\n",
    "from keras.layers import Dense\n",
    "from keras.layers import Dropout\n",
    "\n",
    "from tensorflow import keras\n",
    "from keras import layers\n",
    "from keras.utils import to_categorical\n",
    "from numpy import array"
   ]
  },
  {
   "cell_type": "markdown",
   "metadata": {},
   "source": [
    "Change day of week to a proper US ordered factor"
   ]
  },
  {
   "cell_type": "code",
   "execution_count": 222,
   "metadata": {},
   "outputs": [
    {
     "data": {
      "text/plain": [
       "<bound method NDFrame.head of      ride_date day_of_week month  n_rides  n_riders  n_unique_stops  \\\n",
       "0   2015-01-01       Thurs   Jan       58        37              44   \n",
       "1   2015-01-02         Fri   Jan      134        83              93   \n",
       "2   2015-01-03         Sat   Jan      145        84             100   \n",
       "3   2015-01-04         Sun   Jan      101        57              63   \n",
       "4   2015-01-05         Mon   Jan      182       117             109   \n",
       "..         ...         ...   ...      ...       ...             ...   \n",
       "359 2015-12-27         Sun   Dec      173        97             108   \n",
       "360 2015-12-28         Mon   Dec      322       175             176   \n",
       "361 2015-12-29        Tues   Dec      338       190             184   \n",
       "362 2015-12-30         Wed   Dec      317       184             172   \n",
       "363 2015-12-31       Thurs   Dec      301       167             166   \n",
       "\n",
       "     n_unique_routes  \n",
       "0                 14  \n",
       "1                 24  \n",
       "2                 25  \n",
       "3                 14  \n",
       "4                 23  \n",
       "..               ...  \n",
       "359               15  \n",
       "360               24  \n",
       "361               26  \n",
       "362               28  \n",
       "363               25  \n",
       "\n",
       "[364 rows x 7 columns]>"
      ]
     },
     "execution_count": 222,
     "metadata": {},
     "output_type": "execute_result"
    }
   ],
   "source": [
    "daily = pd.read_csv(\"../DATA/daily.csv\")\n",
    "daily['ride_date'] = pd.to_datetime(daily['ride_date'])\n",
    "daily.sort_values(by = 'ride_date')\n",
    "daily.head"
   ]
  },
  {
   "cell_type": "markdown",
   "metadata": {},
   "source": [
    "Use base R to create two new data frames (weekday and weekend) from the daily ride data with the appropriate observations.\n"
   ]
  },
  {
   "cell_type": "code",
   "execution_count": 223,
   "metadata": {},
   "outputs": [],
   "source": [
    "weekday = daily[daily['day_of_week'] != ('Sat' and 'Sun')]\n"
   ]
  },
  {
   "cell_type": "code",
   "execution_count": 224,
   "metadata": {},
   "outputs": [],
   "source": [
    "winter_riders = daily[daily['month'] == (\"Jan\" or \"Feb\" or \"Mar\")]"
   ]
  },
  {
   "cell_type": "code",
   "execution_count": 225,
   "metadata": {},
   "outputs": [],
   "source": [
    "even = daily[daily.index % 2 == 0]\n",
    "odd =  daily[daily.index % 2 != 0]"
   ]
  },
  {
   "cell_type": "code",
   "execution_count": 226,
   "metadata": {},
   "outputs": [
    {
     "data": {
      "text/plain": [
       "ride_date          0\n",
       "day_of_week        0\n",
       "month              0\n",
       "n_rides            0\n",
       "n_riders           0\n",
       "n_unique_stops     0\n",
       "n_unique_routes    0\n",
       "dtype: int64"
      ]
     },
     "execution_count": 226,
     "metadata": {},
     "output_type": "execute_result"
    }
   ],
   "source": [
    "daily.isna().sum()"
   ]
  },
  {
   "cell_type": "markdown",
   "metadata": {},
   "source": [
    "One hot encoding"
   ]
  },
  {
   "cell_type": "code",
   "execution_count": 227,
   "metadata": {},
   "outputs": [],
   "source": [
    "#Converting categories to numbers\n",
    "day_of_week_array = array(daily['day_of_week'])\n",
    "label_encoder = LabelEncoder()\n",
    "day_of_week_array =label_encoder.fit_transform(day_of_week_array)\n",
    "daily['day_of_week'] = day_of_week_array\n",
    "\n",
    "#Converting numbers to bindary\n",
    "daily['day_of_week'] = daily['day_of_week'].map({0: \"Fri\", 1: \"Mon\", 2: \"Sat\", 3: \"Sun\", 4: \"Thurs\", 5: \"Tues\", 6: \"Wed\"})\n",
    "daily = pd.get_dummies(daily, columns=['day_of_week'], prefix='', prefix_sep='')\n",
    "\n",
    "\n",
    "\n"
   ]
  },
  {
   "cell_type": "code",
   "execution_count": 228,
   "metadata": {},
   "outputs": [],
   "source": [
    "month_array = array(daily['month'])\n",
    "label_encoder = LabelEncoder()\n",
    "month_array =label_encoder.fit_transform(month_array)\n",
    "daily['month'] = month_array\n",
    "\n",
    "#Converting numbers to bindary\n",
    "daily['month'] = daily['month'].map({0: \"Apr\", 1: \"Aug\", 2: \"Dec\", 3: \"Feb\", 4: \"Jan\", 5: \"Jul\", 6: \"Jun\",7: \"Mar\",8:\"May\",9:\"Nov\",10:\"Oct\",11:\"Sep\"})\n",
    "daily = pd.get_dummies(daily, columns=['month'], prefix='', prefix_sep='')\n"
   ]
  },
  {
   "cell_type": "code",
   "execution_count": 229,
   "metadata": {},
   "outputs": [
    {
     "data": {
      "text/plain": [
       "23"
      ]
     },
     "execution_count": 229,
     "metadata": {},
     "output_type": "execute_result"
    }
   ],
   "source": [
    "len(daily.columns)\n",
    "\n",
    "len(train_dataset.columns)"
   ]
  },
  {
   "cell_type": "code",
   "execution_count": 230,
   "metadata": {},
   "outputs": [],
   "source": [
    "daily['riders'] = daily['n_riders']\n",
    "daily = daily.drop(columns=['n_riders'])\n",
    "daily = daily.drop(columns=['ride_date'])\n",
    "train_dataset = daily.sample(frac=0.8, random_state=0)\n",
    "test_dataset = daily.drop(train_dataset.index)"
   ]
  },
  {
   "cell_type": "code",
   "execution_count": 231,
   "metadata": {},
   "outputs": [],
   "source": [
    "###Converting to an array here\n",
    "train_val = train_dataset.values\n",
    "test_val = test_dataset.values"
   ]
  },
  {
   "cell_type": "code",
   "execution_count": 232,
   "metadata": {},
   "outputs": [
    {
     "data": {
      "text/html": [
       "<div>\n",
       "<style scoped>\n",
       "    .dataframe tbody tr th:only-of-type {\n",
       "        vertical-align: middle;\n",
       "    }\n",
       "\n",
       "    .dataframe tbody tr th {\n",
       "        vertical-align: top;\n",
       "    }\n",
       "\n",
       "    .dataframe thead th {\n",
       "        text-align: right;\n",
       "    }\n",
       "</style>\n",
       "<table border=\"1\" class=\"dataframe\">\n",
       "  <thead>\n",
       "    <tr style=\"text-align: right;\">\n",
       "      <th></th>\n",
       "      <th>n_rides</th>\n",
       "      <th>n_unique_stops</th>\n",
       "      <th>n_unique_routes</th>\n",
       "      <th>Fri</th>\n",
       "      <th>Mon</th>\n",
       "      <th>Sat</th>\n",
       "      <th>Sun</th>\n",
       "      <th>Thurs</th>\n",
       "      <th>Tues</th>\n",
       "      <th>Wed</th>\n",
       "      <th>...</th>\n",
       "      <th>Feb</th>\n",
       "      <th>Jan</th>\n",
       "      <th>Jul</th>\n",
       "      <th>Jun</th>\n",
       "      <th>Mar</th>\n",
       "      <th>May</th>\n",
       "      <th>Nov</th>\n",
       "      <th>Oct</th>\n",
       "      <th>Sep</th>\n",
       "      <th>riders</th>\n",
       "    </tr>\n",
       "  </thead>\n",
       "  <tbody>\n",
       "    <tr>\n",
       "      <th>308</th>\n",
       "      <td>465</td>\n",
       "      <td>241</td>\n",
       "      <td>28</td>\n",
       "      <td>1</td>\n",
       "      <td>0</td>\n",
       "      <td>0</td>\n",
       "      <td>0</td>\n",
       "      <td>0</td>\n",
       "      <td>0</td>\n",
       "      <td>0</td>\n",
       "      <td>...</td>\n",
       "      <td>0</td>\n",
       "      <td>0</td>\n",
       "      <td>0</td>\n",
       "      <td>0</td>\n",
       "      <td>0</td>\n",
       "      <td>0</td>\n",
       "      <td>1</td>\n",
       "      <td>0</td>\n",
       "      <td>0</td>\n",
       "      <td>284</td>\n",
       "    </tr>\n",
       "    <tr>\n",
       "      <th>258</th>\n",
       "      <td>399</td>\n",
       "      <td>207</td>\n",
       "      <td>27</td>\n",
       "      <td>0</td>\n",
       "      <td>0</td>\n",
       "      <td>0</td>\n",
       "      <td>0</td>\n",
       "      <td>1</td>\n",
       "      <td>0</td>\n",
       "      <td>0</td>\n",
       "      <td>...</td>\n",
       "      <td>0</td>\n",
       "      <td>0</td>\n",
       "      <td>0</td>\n",
       "      <td>0</td>\n",
       "      <td>0</td>\n",
       "      <td>0</td>\n",
       "      <td>0</td>\n",
       "      <td>0</td>\n",
       "      <td>1</td>\n",
       "      <td>246</td>\n",
       "    </tr>\n",
       "    <tr>\n",
       "      <th>45</th>\n",
       "      <td>244</td>\n",
       "      <td>126</td>\n",
       "      <td>25</td>\n",
       "      <td>0</td>\n",
       "      <td>1</td>\n",
       "      <td>0</td>\n",
       "      <td>0</td>\n",
       "      <td>0</td>\n",
       "      <td>0</td>\n",
       "      <td>0</td>\n",
       "      <td>...</td>\n",
       "      <td>1</td>\n",
       "      <td>0</td>\n",
       "      <td>0</td>\n",
       "      <td>0</td>\n",
       "      <td>0</td>\n",
       "      <td>0</td>\n",
       "      <td>0</td>\n",
       "      <td>0</td>\n",
       "      <td>0</td>\n",
       "      <td>164</td>\n",
       "    </tr>\n",
       "    <tr>\n",
       "      <th>26</th>\n",
       "      <td>106</td>\n",
       "      <td>23</td>\n",
       "      <td>13</td>\n",
       "      <td>0</td>\n",
       "      <td>0</td>\n",
       "      <td>0</td>\n",
       "      <td>0</td>\n",
       "      <td>0</td>\n",
       "      <td>1</td>\n",
       "      <td>0</td>\n",
       "      <td>...</td>\n",
       "      <td>0</td>\n",
       "      <td>1</td>\n",
       "      <td>0</td>\n",
       "      <td>0</td>\n",
       "      <td>0</td>\n",
       "      <td>0</td>\n",
       "      <td>0</td>\n",
       "      <td>0</td>\n",
       "      <td>0</td>\n",
       "      <td>87</td>\n",
       "    </tr>\n",
       "    <tr>\n",
       "      <th>219</th>\n",
       "      <td>29</td>\n",
       "      <td>22</td>\n",
       "      <td>12</td>\n",
       "      <td>0</td>\n",
       "      <td>0</td>\n",
       "      <td>0</td>\n",
       "      <td>1</td>\n",
       "      <td>0</td>\n",
       "      <td>0</td>\n",
       "      <td>0</td>\n",
       "      <td>...</td>\n",
       "      <td>0</td>\n",
       "      <td>0</td>\n",
       "      <td>0</td>\n",
       "      <td>0</td>\n",
       "      <td>0</td>\n",
       "      <td>0</td>\n",
       "      <td>0</td>\n",
       "      <td>0</td>\n",
       "      <td>0</td>\n",
       "      <td>17</td>\n",
       "    </tr>\n",
       "  </tbody>\n",
       "</table>\n",
       "<p>5 rows × 23 columns</p>\n",
       "</div>"
      ],
      "text/plain": [
       "     n_rides  n_unique_stops  n_unique_routes  Fri  Mon  Sat  Sun  Thurs  \\\n",
       "308      465             241               28    1    0    0    0      0   \n",
       "258      399             207               27    0    0    0    0      1   \n",
       "45       244             126               25    0    1    0    0      0   \n",
       "26       106              23               13    0    0    0    0      0   \n",
       "219       29              22               12    0    0    0    1      0   \n",
       "\n",
       "     Tues  Wed  ...  Feb  Jan  Jul  Jun  Mar  May  Nov  Oct  Sep  riders  \n",
       "308     0    0  ...    0    0    0    0    0    0    1    0    0     284  \n",
       "258     0    0  ...    0    0    0    0    0    0    0    0    1     246  \n",
       "45      0    0  ...    1    0    0    0    0    0    0    0    0     164  \n",
       "26      1    0  ...    0    1    0    0    0    0    0    0    0      87  \n",
       "219     0    0  ...    0    0    0    0    0    0    0    0    0      17  \n",
       "\n",
       "[5 rows x 23 columns]"
      ]
     },
     "execution_count": 232,
     "metadata": {},
     "output_type": "execute_result"
    }
   ],
   "source": [
    "train_dataset.head()"
   ]
  },
  {
   "cell_type": "code",
   "execution_count": 233,
   "metadata": {},
   "outputs": [],
   "source": [
    "#Col 3 is predict for n_rriders\n",
    "\n",
    "x_train =  train_val[:,:22]\n",
    "x_train = np.asarray(x_train)\n",
    "y_train =  train_val[:,22]\n",
    "y_train  = np.asarray(y_train)\n",
    "X_test =  test_val[:,:22]\n",
    "X_test = np.asarray(X_test)\n",
    "Y_test = test_val[:,22]\n",
    "Y_test = np.asarray(Y_test)"
   ]
  },
  {
   "cell_type": "code",
   "execution_count": 238,
   "metadata": {},
   "outputs": [
    {
     "name": "stdout",
     "output_type": "stream",
     "text": [
      "Epoch 1/48\n",
      "5/5 [==============================] - 1s 46ms/step - loss: 23271.3672 - mse: 23271.3672 - mae: 140.6629 - val_loss: 20511.1973 - val_mse: 20511.1973 - val_mae: 133.9563\n",
      "Epoch 2/48\n",
      "5/5 [==============================] - 0s 8ms/step - loss: 14349.2881 - mse: 14349.2881 - mae: 109.2601 - val_loss: 11615.4072 - val_mse: 11615.4072 - val_mae: 99.6069\n",
      "Epoch 3/48\n",
      "5/5 [==============================] - 0s 8ms/step - loss: 7397.7964 - mse: 7397.7964 - mae: 75.0784 - val_loss: 4606.1338 - val_mse: 4606.1338 - val_mae: 59.5933\n",
      "Epoch 4/48\n",
      "5/5 [==============================] - 0s 8ms/step - loss: 2667.3347 - mse: 2667.3347 - mae: 39.6252 - val_loss: 898.0458 - val_mse: 898.0458 - val_mae: 21.6169\n",
      "Epoch 5/48\n",
      "5/5 [==============================] - 0s 8ms/step - loss: 1007.3915 - mse: 1007.3915 - mae: 24.5917 - val_loss: 593.5795 - val_mse: 593.5795 - val_mae: 20.9894\n",
      "Epoch 6/48\n",
      "5/5 [==============================] - 0s 8ms/step - loss: 1375.4972 - mse: 1375.4972 - mae: 29.8536 - val_loss: 763.4769 - val_mse: 763.4769 - val_mae: 24.3881\n",
      "Epoch 7/48\n",
      "5/5 [==============================] - 0s 9ms/step - loss: 1368.2214 - mse: 1368.2214 - mae: 29.9285 - val_loss: 401.0639 - val_mse: 401.0639 - val_mae: 16.5207\n",
      "Epoch 8/48\n",
      "5/5 [==============================] - 0s 8ms/step - loss: 867.0605 - mse: 867.0605 - mae: 23.2054 - val_loss: 236.9136 - val_mse: 236.9136 - val_mae: 12.4343\n",
      "Epoch 9/48\n",
      "5/5 [==============================] - 0s 8ms/step - loss: 746.3392 - mse: 746.3392 - mae: 20.5151 - val_loss: 351.3997 - val_mse: 351.3997 - val_mae: 15.1747\n",
      "Epoch 10/48\n",
      "5/5 [==============================] - 0s 9ms/step - loss: 803.7408 - mse: 803.7408 - mae: 20.5323 - val_loss: 361.7158 - val_mse: 361.7158 - val_mae: 15.4650\n",
      "Epoch 11/48\n",
      "5/5 [==============================] - 0s 8ms/step - loss: 756.6514 - mse: 756.6514 - mae: 20.3054 - val_loss: 232.4727 - val_mse: 232.4727 - val_mae: 12.3414\n",
      "Epoch 12/48\n",
      "5/5 [==============================] - 0s 9ms/step - loss: 727.7537 - mse: 727.7537 - mae: 20.4442 - val_loss: 161.6572 - val_mse: 161.6572 - val_mae: 10.3631\n",
      "Epoch 13/48\n",
      "5/5 [==============================] - 0s 8ms/step - loss: 647.0801 - mse: 647.0801 - mae: 19.3767 - val_loss: 146.7818 - val_mse: 146.7818 - val_mae: 9.9355\n",
      "Epoch 14/48\n",
      "5/5 [==============================] - 0s 14ms/step - loss: 703.0904 - mse: 703.0904 - mae: 20.1806 - val_loss: 148.8316 - val_mse: 148.8316 - val_mae: 10.0641\n",
      "Epoch 15/48\n",
      "5/5 [==============================] - 0s 11ms/step - loss: 720.1110 - mse: 720.1110 - mae: 20.0555 - val_loss: 150.9647 - val_mse: 150.9647 - val_mae: 10.1540\n",
      "Epoch 16/48\n",
      "5/5 [==============================] - 0s 10ms/step - loss: 598.9498 - mse: 598.9498 - mae: 18.7884 - val_loss: 175.2629 - val_mse: 175.2629 - val_mae: 10.9473\n",
      "Epoch 17/48\n",
      "5/5 [==============================] - 0s 30ms/step - loss: 714.3650 - mse: 714.3650 - mae: 19.6685 - val_loss: 182.3430 - val_mse: 182.3430 - val_mae: 11.1422\n",
      "Epoch 18/48\n",
      "5/5 [==============================] - 0s 9ms/step - loss: 614.8701 - mse: 614.8701 - mae: 18.5493 - val_loss: 161.2034 - val_mse: 161.2034 - val_mae: 10.4386\n",
      "Epoch 19/48\n",
      "5/5 [==============================] - 0s 9ms/step - loss: 656.1735 - mse: 656.1735 - mae: 19.1410 - val_loss: 147.6809 - val_mse: 147.6809 - val_mae: 9.9893\n",
      "Epoch 20/48\n",
      "5/5 [==============================] - 0s 9ms/step - loss: 552.7484 - mse: 552.7484 - mae: 17.8320 - val_loss: 156.7942 - val_mse: 156.7942 - val_mae: 10.3997\n",
      "Epoch 21/48\n",
      "5/5 [==============================] - 0s 8ms/step - loss: 612.3875 - mse: 612.3875 - mae: 18.4495 - val_loss: 164.5473 - val_mse: 164.5473 - val_mae: 10.6686\n",
      "Epoch 22/48\n",
      "5/5 [==============================] - 0s 8ms/step - loss: 534.9850 - mse: 534.9850 - mae: 17.4747 - val_loss: 158.8576 - val_mse: 158.8576 - val_mae: 10.4773\n",
      "Epoch 23/48\n",
      "5/5 [==============================] - 0s 8ms/step - loss: 566.3734 - mse: 566.3734 - mae: 18.0438 - val_loss: 160.5933 - val_mse: 160.5933 - val_mae: 10.5327\n",
      "Epoch 24/48\n",
      "5/5 [==============================] - 0s 8ms/step - loss: 643.5542 - mse: 643.5542 - mae: 19.0124 - val_loss: 162.0039 - val_mse: 162.0039 - val_mae: 10.5901\n",
      "Epoch 25/48\n",
      "5/5 [==============================] - 0s 9ms/step - loss: 590.1996 - mse: 590.1996 - mae: 18.5080 - val_loss: 144.9711 - val_mse: 144.9711 - val_mae: 9.9785\n",
      "Epoch 26/48\n",
      "5/5 [==============================] - 0s 9ms/step - loss: 608.2823 - mse: 608.2823 - mae: 18.2894 - val_loss: 146.5698 - val_mse: 146.5698 - val_mae: 10.0354\n",
      "Epoch 27/48\n",
      "5/5 [==============================] - 0s 9ms/step - loss: 612.3060 - mse: 612.3060 - mae: 18.3999 - val_loss: 161.4632 - val_mse: 161.4632 - val_mae: 10.5743\n",
      "Epoch 28/48\n",
      "5/5 [==============================] - 0s 8ms/step - loss: 568.5477 - mse: 568.5477 - mae: 17.8400 - val_loss: 156.3537 - val_mse: 156.3537 - val_mae: 10.4412\n",
      "Epoch 29/48\n",
      "5/5 [==============================] - 0s 8ms/step - loss: 580.4350 - mse: 580.4350 - mae: 18.0540 - val_loss: 135.8970 - val_mse: 135.8970 - val_mae: 9.6227\n",
      "Epoch 30/48\n",
      "5/5 [==============================] - 0s 8ms/step - loss: 567.5756 - mse: 567.5756 - mae: 18.1546 - val_loss: 144.5722 - val_mse: 144.5722 - val_mae: 9.9867\n",
      "Epoch 31/48\n",
      "5/5 [==============================] - 0s 8ms/step - loss: 582.5131 - mse: 582.5131 - mae: 17.8382 - val_loss: 155.1315 - val_mse: 155.1315 - val_mae: 10.4111\n",
      "Epoch 32/48\n",
      "5/5 [==============================] - 0s 8ms/step - loss: 559.9283 - mse: 559.9283 - mae: 17.9975 - val_loss: 138.0284 - val_mse: 138.0284 - val_mae: 9.7583\n",
      "Epoch 33/48\n",
      "5/5 [==============================] - 0s 8ms/step - loss: 510.6471 - mse: 510.6471 - mae: 17.3139 - val_loss: 136.6430 - val_mse: 136.6430 - val_mae: 9.7113\n",
      "Epoch 34/48\n",
      "5/5 [==============================] - 0s 8ms/step - loss: 559.6313 - mse: 559.6313 - mae: 17.9783 - val_loss: 126.2292 - val_mse: 126.2292 - val_mae: 9.2637\n",
      "Epoch 35/48\n",
      "5/5 [==============================] - 0s 10ms/step - loss: 581.8556 - mse: 581.8556 - mae: 18.1133 - val_loss: 134.5042 - val_mse: 134.5042 - val_mae: 9.6447\n",
      "Epoch 36/48\n",
      "5/5 [==============================] - 0s 8ms/step - loss: 517.5477 - mse: 517.5477 - mae: 17.1747 - val_loss: 138.6205 - val_mse: 138.6205 - val_mae: 9.8107\n",
      "Epoch 37/48\n",
      "5/5 [==============================] - 0s 8ms/step - loss: 588.1810 - mse: 588.1810 - mae: 18.1635 - val_loss: 129.8322 - val_mse: 129.8322 - val_mae: 9.4427\n",
      "Epoch 38/48\n",
      "5/5 [==============================] - 0s 8ms/step - loss: 534.9913 - mse: 534.9913 - mae: 17.6283 - val_loss: 116.1894 - val_mse: 116.1894 - val_mae: 8.8206\n",
      "Epoch 39/48\n",
      "5/5 [==============================] - 0s 9ms/step - loss: 521.0076 - mse: 521.0076 - mae: 17.6321 - val_loss: 121.1385 - val_mse: 121.1385 - val_mae: 9.1108\n",
      "Epoch 40/48\n",
      "5/5 [==============================] - 0s 9ms/step - loss: 495.7151 - mse: 495.7151 - mae: 16.9782 - val_loss: 159.8791 - val_mse: 159.8791 - val_mae: 10.6507\n",
      "Epoch 41/48\n",
      "5/5 [==============================] - 0s 8ms/step - loss: 559.8560 - mse: 559.8560 - mae: 17.2764 - val_loss: 134.9962 - val_mse: 134.9962 - val_mae: 9.7571\n",
      "Epoch 42/48\n",
      "5/5 [==============================] - 0s 8ms/step - loss: 526.0675 - mse: 526.0675 - mae: 17.3491 - val_loss: 108.5465 - val_mse: 108.5465 - val_mae: 8.4117\n",
      "Epoch 43/48\n",
      "5/5 [==============================] - 0s 8ms/step - loss: 534.2946 - mse: 534.2946 - mae: 17.3753 - val_loss: 110.1246 - val_mse: 110.1246 - val_mae: 8.5435\n",
      "Epoch 44/48\n",
      "5/5 [==============================] - 0s 8ms/step - loss: 570.2139 - mse: 570.2139 - mae: 17.8362 - val_loss: 117.2126 - val_mse: 117.2126 - val_mae: 8.9826\n",
      "Epoch 45/48\n",
      "5/5 [==============================] - 0s 8ms/step - loss: 497.0200 - mse: 497.0200 - mae: 16.7765 - val_loss: 126.6211 - val_mse: 126.6211 - val_mae: 9.3736\n",
      "Epoch 46/48\n",
      "5/5 [==============================] - 0s 8ms/step - loss: 488.9915 - mse: 488.9915 - mae: 16.6393 - val_loss: 119.3604 - val_mse: 119.3604 - val_mae: 9.0715\n",
      "Epoch 47/48\n",
      "5/5 [==============================] - 0s 8ms/step - loss: 480.5878 - mse: 480.5878 - mae: 16.7163 - val_loss: 119.3181 - val_mse: 119.3181 - val_mae: 9.1190\n",
      "Epoch 48/48\n",
      "5/5 [==============================] - 0s 8ms/step - loss: 479.7192 - mse: 479.7192 - mae: 16.3844 - val_loss: 134.7792 - val_mse: 134.7792 - val_mae: 9.7736\n"
     ]
    },
    {
     "data": {
      "text/plain": [
       "<keras.callbacks.History at 0x7feab5f96910>"
      ]
     },
     "execution_count": 238,
     "metadata": {},
     "output_type": "execute_result"
    }
   ],
   "source": [
    "model = Sequential()\n",
    "model.add(Dense(256, activation='relu'))\n",
    "model.add(Dropout(0.1))\n",
    "model.add(Dense(64, activation='relu'))\n",
    "model.add(Dropout(0.05))\n",
    "model.add(Dense(10))\n",
    "\n",
    "model.compile(optimizer='Adam',\n",
    "              loss='mean_squared_error',\n",
    "              metrics=['mse','mae'])\n",
    "\n",
    "model.fit(x_train, y_train,\n",
    "          batch_size=64,\n",
    "          epochs=48,\n",
    "          verbose=1,\n",
    "          validation_data=(X_test, Y_test))"
   ]
  },
  {
   "cell_type": "code",
   "execution_count": 239,
   "metadata": {},
   "outputs": [
    {
     "name": "stdout",
     "output_type": "stream",
     "text": [
      "Model: \"sequential_26\"\n",
      "_________________________________________________________________\n",
      " Layer (type)                Output Shape              Param #   \n",
      "=================================================================\n",
      " dense_76 (Dense)            (None, 256)               5888      \n",
      "                                                                 \n",
      " dropout_50 (Dropout)        (None, 256)               0         \n",
      "                                                                 \n",
      " dense_77 (Dense)            (None, 64)                16448     \n",
      "                                                                 \n",
      " dropout_51 (Dropout)        (None, 64)                0         \n",
      "                                                                 \n",
      " dense_78 (Dense)            (None, 10)                650       \n",
      "                                                                 \n",
      "=================================================================\n",
      "Total params: 22,986\n",
      "Trainable params: 22,986\n",
      "Non-trainable params: 0\n",
      "_________________________________________________________________\n"
     ]
    }
   ],
   "source": [
    "model.summary()"
   ]
  },
  {
   "cell_type": "code",
   "execution_count": 240,
   "metadata": {},
   "outputs": [
    {
     "name": "stdout",
     "output_type": "stream",
     "text": [
      "Test loss: 134.77923583984375\n",
      "Test mse: 134.77923583984375\n",
      "Test mse: 9.773576736450195\n"
     ]
    }
   ],
   "source": [
    "score = model.evaluate(X_test, Y_test, verbose=0)\n",
    "print('Test loss:', score[0])\n",
    "print('Test mse:', score[1])\n",
    "print('Test mae:', score[2])"
   ]
  },
  {
   "cell_type": "code",
   "execution_count": 275,
   "metadata": {},
   "outputs": [
    {
     "name": "stdout",
     "output_type": "stream",
     "text": [
      "3/3 [==============================] - 0s 2ms/step\n",
      "3/3 [==============================] - 0s 2ms/step\n",
      "3/3 [==============================] - 0s 1ms/step\n",
      "3/3 [==============================] - 0s 1ms/step\n",
      "3/3 [==============================] - 0s 1ms/step\n",
      "3/3 [==============================] - 0s 1ms/step\n",
      "3/3 [==============================] - 0s 1ms/step\n",
      "3/3 [==============================] - 0s 1ms/step\n",
      "3/3 [==============================] - 0s 1ms/step\n",
      "3/3 [==============================] - 0s 1ms/step\n",
      "3/3 [==============================] - 0s 1ms/step\n",
      "3/3 [==============================] - 0s 2ms/step\n",
      "3/3 [==============================] - 0s 1ms/step\n",
      "3/3 [==============================] - 0s 1ms/step\n",
      "3/3 [==============================] - 0s 1ms/step\n",
      "3/3 [==============================] - 0s 2ms/step\n",
      "3/3 [==============================] - 0s 1ms/step\n",
      "3/3 [==============================] - 0s 1ms/step\n",
      "3/3 [==============================] - 0s 2ms/step\n",
      "3/3 [==============================] - 0s 2ms/step\n",
      "3/3 [==============================] - 0s 2ms/step\n",
      "3/3 [==============================] - 0s 1ms/step\n",
      "3/3 [==============================] - 0s 2ms/step\n",
      "3/3 [==============================] - 0s 2ms/step\n",
      "3/3 [==============================] - 0s 2ms/step\n",
      "3/3 [==============================] - 0s 2ms/step\n",
      "3/3 [==============================] - 0s 1ms/step\n",
      "3/3 [==============================] - 0s 1ms/step\n",
      "3/3 [==============================] - 0s 2ms/step\n",
      "3/3 [==============================] - 0s 2ms/step\n",
      "3/3 [==============================] - 0s 1ms/step\n",
      "3/3 [==============================] - 0s 1ms/step\n",
      "3/3 [==============================] - 0s 2ms/step\n",
      "3/3 [==============================] - 0s 2ms/step\n",
      "3/3 [==============================] - 0s 3ms/step\n",
      "3/3 [==============================] - 0s 1ms/step\n",
      "3/3 [==============================] - 0s 2ms/step\n",
      "3/3 [==============================] - 0s 2ms/step\n",
      "3/3 [==============================] - 0s 1ms/step\n",
      "3/3 [==============================] - 0s 2ms/step\n",
      "3/3 [==============================] - 0s 2ms/step\n",
      "3/3 [==============================] - 0s 1ms/step\n",
      "3/3 [==============================] - 0s 1ms/step\n",
      "3/3 [==============================] - 0s 2ms/step\n",
      "3/3 [==============================] - 0s 2ms/step\n",
      "3/3 [==============================] - 0s 2ms/step\n",
      "3/3 [==============================] - 0s 2ms/step\n",
      "3/3 [==============================] - 0s 2ms/step\n",
      "3/3 [==============================] - 0s 2ms/step\n",
      "3/3 [==============================] - 0s 2ms/step\n",
      "3/3 [==============================] - 0s 2ms/step\n",
      "3/3 [==============================] - 0s 1ms/step\n",
      "3/3 [==============================] - 0s 1ms/step\n",
      "3/3 [==============================] - 0s 2ms/step\n",
      "3/3 [==============================] - 0s 1ms/step\n",
      "3/3 [==============================] - 0s 1ms/step\n",
      "3/3 [==============================] - 0s 2ms/step\n",
      "3/3 [==============================] - 0s 2ms/step\n",
      "3/3 [==============================] - 0s 1ms/step\n",
      "3/3 [==============================] - 0s 2ms/step\n",
      "3/3 [==============================] - 0s 2ms/step\n",
      "3/3 [==============================] - 0s 1ms/step\n",
      "3/3 [==============================] - 0s 2ms/step\n",
      "3/3 [==============================] - 0s 2ms/step\n",
      "3/3 [==============================] - 0s 1ms/step\n",
      "3/3 [==============================] - 0s 1ms/step\n",
      "3/3 [==============================] - 0s 2ms/step\n",
      "3/3 [==============================] - 0s 2ms/step\n",
      "3/3 [==============================] - 0s 2ms/step\n",
      "3/3 [==============================] - 0s 2ms/step\n",
      "3/3 [==============================] - 0s 1ms/step\n",
      "3/3 [==============================] - 0s 2ms/step\n",
      "3/3 [==============================] - 0s 2ms/step\n"
     ]
    }
   ],
   "source": [
    "\n",
    "Test_list = []\n",
    "Test_list = list(Test_list)\n",
    "i = 0\n",
    "while i < len(X_test):\n",
    "    Test_list.append(model.predict(X_test)[i].mean())\n",
    "    i +=1"
   ]
  },
  {
   "cell_type": "code",
   "execution_count": 278,
   "metadata": {},
   "outputs": [
    {
     "data": {
      "image/png": "[encoded data removed]",
      "text/plain": [
       "<Figure size 432x288 with 1 Axes>"
      ]
     },
     "metadata": {
      "needs_background": "light"
     },
     "output_type": "display_data"
    }
   ],
   "source": [
    "\n",
    "Test = Test_list\n",
    "Actual = Y_test\n",
    "\n",
    "\n",
    "df = pd.DataFrame({'Test': Test, 'Actual': Actual})\n",
    "df.head()\n",
    "\n",
    "\n",
    "import matplotlib.pyplot as plt\n",
    "\n",
    "plt.scatter(x=Test,y=Actual)\n",
    "plt.show()\n"
   ]
  },
  {
   "cell_type": "code",
   "execution_count": 262,
   "metadata": {},
   "outputs": [
    {
     "data": {
      "text/plain": [
       "array([114,  52,  86,  26, 114, 189, 162, 199, 192, 177, 137, 156,  71,\n",
       "       166, 176, 188, 169, 168, 120, 207, 170, 223, 177,  79, 135,  83,\n",
       "       184, 143,  71, 166, 168, 176,  68,  89, 153, 145, 175, 179, 123,\n",
       "       194, 182, 114, 269, 255, 246, 277, 253, 245, 270, 142, 210, 258,\n",
       "       267, 181, 233, 285, 278, 306, 262, 289, 275, 181, 125, 131, 277,\n",
       "       270, 187, 254, 266, 246, 227, 165, 184])"
      ]
     },
     "execution_count": 262,
     "metadata": {},
     "output_type": "execute_result"
    }
   ],
   "source": [
    "Y_test"
   ]
  },
  {
   "cell_type": "code",
   "execution_count": 260,
   "metadata": {},
   "outputs": [
    {
     "data": {
      "text/plain": [
       "(73, 22)"
      ]
     },
     "execution_count": 260,
     "metadata": {},
     "output_type": "execute_result"
    }
   ],
   "source": [
    "X_test.shape"
   ]
  },
  {
   "cell_type": "code",
   "execution_count": 259,
   "metadata": {},
   "outputs": [
    {
     "name": "stdout",
     "output_type": "stream",
     "text": [
      "3/3 [==============================] - 0s 3ms/step\n"
     ]
    },
    {
     "data": {
      "text/plain": [
       "(73, 10)"
      ]
     },
     "execution_count": 259,
     "metadata": {},
     "output_type": "execute_result"
    }
   ],
   "source": [
    "model.predict(X_test).shape"
   ]
  },
  {
   "cell_type": "code",
   "execution_count": 164,
   "metadata": {},
   "outputs": [],
   "source": [
    "train_features = train_dataset.copy()\n",
    "test_features = test_dataset.copy()\n",
    "\n",
    "train_labels = train_features.pop('riders')\n",
    "test_labels = test_features.pop('riders')\n",
    "\n",
    "train_dataset.describe().transpose()[['mean', 'std']]\n",
    "\n",
    "normalizer = tf.keras.layers.Normalization(axis=-1)\n",
    "normalizer.adapt(np.array(train_features))\n"
   ]
  },
  {
   "cell_type": "code",
   "execution_count": 165,
   "metadata": {},
   "outputs": [],
   "source": [
    "normalizer.adapt(np.array(train_features))\n"
   ]
  },
  {
   "cell_type": "code",
   "execution_count": 166,
   "metadata": {},
   "outputs": [
    {
     "name": "stdout",
     "output_type": "stream",
     "text": [
      "First example: [[465 241  28   1   0   0   0   0   0   0   0   0   0   0   0   0   0   0\n",
      "    0   1   0   0]]\n",
      "\n",
      "Normalized: [[ 1.88  1.69  0.62  2.47 -0.41 -0.4  -0.43 -0.41 -0.4  -0.4  -0.31 -0.34\n",
      "  -0.29 -0.26 -0.33 -0.29 -0.3  -0.31 -0.31  3.41 -0.3  -0.29]]\n"
     ]
    }
   ],
   "source": [
    "first = np.array(train_features[:1])\n",
    "\n",
    "with np.printoptions(precision=2, suppress=True):\n",
    "  print('First example:', first)\n",
    "  print()\n",
    "  print('Normalized:', normalizer(first).numpy())"
   ]
  },
  {
   "cell_type": "code",
   "execution_count": 167,
   "metadata": {},
   "outputs": [],
   "source": [
    "linear_model = tf.keras.Sequential([\n",
    "    normalizer,\n",
    "    layers.Dense(units=1)\n",
    "])"
   ]
  },
  {
   "cell_type": "code",
   "execution_count": 180,
   "metadata": {},
   "outputs": [
    {
     "name": "stdout",
     "output_type": "stream",
     "text": [
      "1/1 [==============================] - 0s 68ms/step\n"
     ]
    },
    {
     "data": {
      "text/plain": [
       "array([[169.88095 ],\n",
       "       [130.04623 ],\n",
       "       [ 28.605843],\n",
       "       [-32.940742],\n",
       "       [ 18.0998  ],\n",
       "       [ 37.615585],\n",
       "       [161.07245 ],\n",
       "       [165.79634 ],\n",
       "       [ 17.916084],\n",
       "       [ 57.532104],\n",
       "       [ 44.89984 ],\n",
       "       [155.71997 ],\n",
       "       [ 24.6958  ],\n",
       "       [ 99.69212 ],\n",
       "       [205.25566 ],\n",
       "       [-29.470108],\n",
       "       [ 53.91673 ],\n",
       "       [ 55.33808 ],\n",
       "       [135.37787 ],\n",
       "       [233.06387 ],\n",
       "       [ 41.718796]], dtype=float32)"
      ]
     },
     "execution_count": 180,
     "metadata": {},
     "output_type": "execute_result"
    }
   ],
   "source": [
    "linear_model.predict(train_features[:21])"
   ]
  },
  {
   "cell_type": "code",
   "execution_count": 170,
   "metadata": {},
   "outputs": [
    {
     "data": {
      "text/plain": [
       "<tf.Variable 'dense_57/kernel:0' shape=(22, 1) dtype=float32, numpy=\n",
       "array([[-0.2178182 ],\n",
       "       [ 0.27047294],\n",
       "       [-0.28908038],\n",
       "       [-0.14175645],\n",
       "       [ 0.13962418],\n",
       "       [-0.1042195 ],\n",
       "       [-0.49665806],\n",
       "       [ 0.37704277],\n",
       "       [-0.17416713],\n",
       "       [-0.2823618 ],\n",
       "       [ 0.45601285],\n",
       "       [ 0.13999486],\n",
       "       [ 0.419887  ],\n",
       "       [-0.3315292 ],\n",
       "       [ 0.0741834 ],\n",
       "       [ 0.23845708],\n",
       "       [ 0.33324766],\n",
       "       [ 0.31468832],\n",
       "       [ 0.31503272],\n",
       "       [-0.31716117],\n",
       "       [-0.11157376],\n",
       "       [-0.17622486]], dtype=float32)>"
      ]
     },
     "execution_count": 170,
     "metadata": {},
     "output_type": "execute_result"
    }
   ],
   "source": [
    "linear_model.layers[1].kernel\n"
   ]
  },
  {
   "cell_type": "code",
   "execution_count": 171,
   "metadata": {},
   "outputs": [],
   "source": [
    "linear_model.compile(\n",
    "    optimizer=tf.keras.optimizers.Adam(learning_rate=0.1),\n",
    "    loss='mean_absolute_error')"
   ]
  },
  {
   "cell_type": "code",
   "execution_count": 172,
   "metadata": {},
   "outputs": [
    {
     "name": "stdout",
     "output_type": "stream",
     "text": [
      "CPU times: user 3.69 s, sys: 319 ms, total: 4.01 s\n",
      "Wall time: 3.53 s\n"
     ]
    }
   ],
   "source": [
    "%%time\n",
    "history = linear_model.fit(\n",
    "    train_features,\n",
    "    train_labels,\n",
    "    epochs=100,\n",
    "    # Suppress logging.\n",
    "    verbose=0,\n",
    "    # Calculate validation results on 20% of the training data.\n",
    "    validation_split = 0.2)"
   ]
  },
  {
   "cell_type": "code",
   "execution_count": 178,
   "metadata": {},
   "outputs": [],
   "source": [
    "test_results = {}\n",
    "test_results['linear_model'] = linear_model.evaluate(\n",
    "    test_features, test_labels, verbose=0)"
   ]
  },
  {
   "cell_type": "code",
   "execution_count": 179,
   "metadata": {},
   "outputs": [],
   "source": [
    "def build_and_compile_model(norm):\n",
    "  model = keras.Sequential([\n",
    "      norm,\n",
    "      layers.Dense(64, activation='relu'),\n",
    "      layers.Dense(64, activation='relu'),\n",
    "      layers.Dense(1)\n",
    "  ])\n",
    "\n",
    "  model.compile(loss='mean_absolute_error',\n",
    "                optimizer=tf.keras.optimizers.Adam(0.001))\n",
    "  return model"
   ]
  },
  {
   "cell_type": "code",
   "execution_count": null,
   "metadata": {},
   "outputs": [],
   "source": []
  }
 ],
 "metadata": {
  "kernelspec": {
   "display_name": "Python 3.9.7 ('base')",
   "language": "python",
   "name": "python3"
  },
  "language_info": {
   "codemirror_mode": {
    "name": "ipython",
    "version": 3
   },
   "file_extension": ".py",
   "mimetype": "text/x-python",
   "name": "python",
   "nbconvert_exporter": "python",
   "pygments_lexer": "ipython3",
   "version": "3.9.7"
  },
  "orig_nbformat": 4,
  "vscode": {
   "interpreter": {
    "hash": "3edbd7b23b0fac25ed01096b34e5f59511cb659c0b1d4bb21fa4d1eb2f403c11"
   }
  }
 },
 "nbformat": 4,
 "nbformat_minor": 2
}
