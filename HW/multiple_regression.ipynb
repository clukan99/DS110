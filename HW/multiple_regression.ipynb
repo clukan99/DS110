{
 "cells": [
  {
   "cell_type": "code",
   "execution_count": 10,
   "metadata": {},
   "outputs": [],
   "source": [
    "import pandas as pd\n",
    "import numpy as np\n",
    "import datetime\n",
    "import tensorflow as tf\n",
    "import sklearn\n",
    "from sklearn.preprocessing import LabelEncoder\n",
    "\n",
    "\n",
    "from tensorflow import keras\n",
    "from tensorflow.keras import layers\n",
    "from keras.utils import to_categorical\n",
    "from numpy import array"
   ]
  },
  {
   "cell_type": "code",
   "execution_count": 15,
   "metadata": {},
   "outputs": [
    {
     "data": {
      "text/plain": [
       "Index(['Order', 'PID', 'MS.SubClass', 'MS.Zoning', 'Lot.Frontage', 'Lot.Area',\n",
       "       'Street', 'Alley', 'Lot.Shape', 'Land.Contour', 'Utilities',\n",
       "       'Lot.Config', 'Land.Slope', 'Neighborhood', 'Condition.1',\n",
       "       'Condition.2', 'Bldg.Type', 'House.Style', 'Overall.Qual',\n",
       "       'Overall.Cond', 'Year.Built', 'Year.Remod.Add', 'Roof.Style',\n",
       "       'Roof.Matl', 'Exterior.1st', 'Exterior.2nd', 'Mas.Vnr.Type',\n",
       "       'Mas.Vnr.Area', 'Exter.Qual', 'Exter.Cond', 'Foundation', 'Bsmt.Qual',\n",
       "       'Bsmt.Cond', 'Bsmt.Exposure', 'BsmtFin.Type.1', 'BsmtFin.SF.1',\n",
       "       'BsmtFin.Type.2', 'BsmtFin.SF.2', 'Bsmt.Unf.SF', 'Total.Bsmt.SF',\n",
       "       'Heating', 'Heating.QC', 'Central.Air', 'Electrical', 'X1st.Flr.SF',\n",
       "       'X2nd.Flr.SF', 'Low.Qual.Fin.SF', 'Gr.Liv.Area', 'Bsmt.Full.Bath',\n",
       "       'Bsmt.Half.Bath', 'Full.Bath', 'Half.Bath', 'Bedroom.AbvGr',\n",
       "       'Kitchen.AbvGr', 'Kitchen.Qual', 'TotRms.AbvGrd', 'Functional',\n",
       "       'Fireplaces', 'Fireplace.Qu', 'Garage.Type', 'Garage.Yr.Blt',\n",
       "       'Garage.Finish', 'Garage.Cars', 'Garage.Area', 'Garage.Qual',\n",
       "       'Garage.Cond', 'Paved.Drive', 'Wood.Deck.SF', 'Open.Porch.SF',\n",
       "       'Enclosed.Porch', 'X3Ssn.Porch', 'Screen.Porch', 'Pool.Area', 'Pool.QC',\n",
       "       'Fence', 'Misc.Feature', 'Misc.Val', 'Mo.Sold', 'Yr.Sold', 'Sale.Type',\n",
       "       'Sale.Condition', 'SalePrice'],\n",
       "      dtype='object')"
      ]
     },
     "execution_count": 15,
     "metadata": {},
     "output_type": "execute_result"
    }
   ],
   "source": [
    "\n",
    "\n",
    "ames = pd.read_csv(\"../DATA/ames.csv\")\n",
    "ames.columns"
   ]
  },
  {
   "cell_type": "code",
   "execution_count": 21,
   "metadata": {},
   "outputs": [],
   "source": [
    "ames = ames[ames['Lot.Area'] <= 4000]\n",
    "ames = ames.dropna\n",
    "\n"
   ]
  },
  {
   "cell_type": "code",
   "execution_count": 34,
   "metadata": {},
   "outputs": [
    {
     "ename": "TypeError",
     "evalue": "'method' object is not subscriptable",
     "output_type": "error",
     "traceback": [
      "\u001b[0;31m---------------------------------------------------------------------------\u001b[0m",
      "\u001b[0;31mTypeError\u001b[0m                                 Traceback (most recent call last)",
      "\u001b[0;32m/var/folders/mh/9fr225sj6bd0qgb1553s86dw0000gn/T/ipykernel_44656/2673327828.py\u001b[0m in \u001b[0;36m<module>\u001b[0;34m\u001b[0m\n\u001b[1;32m      1\u001b[0m \u001b[0;31m#d = {\"LotArea\": ames['Lot.Area'], \"GrLiv\": ames['Gr.Liv.Area'], \"OverallCond\": ames['Overall.Cond'], \"SalePrice\": ames['SalePrice']}\u001b[0m\u001b[0;34m\u001b[0m\u001b[0;34m\u001b[0m\u001b[0m\n\u001b[0;32m----> 2\u001b[0;31m ames_df = pd.DataFrame(data = {\"LotArea\": ames['Lot.Area'], \"GrLiv\": ames['Gr.Liv.Area'], \"OverallCond\": ames['Overall.Cond'], \"SalePrice\": ames['SalePrice']}\n\u001b[0m\u001b[1;32m      3\u001b[0m )\n",
      "\u001b[0;31mTypeError\u001b[0m: 'method' object is not subscriptable"
     ]
    }
   ],
   "source": [
    "#d = {\"LotArea\": ames['Lot.Area'], \"GrLiv\": ames['Gr.Liv.Area'], \"OverallCond\": ames['Overall.Cond'], \"SalePrice\": ames['SalePrice']}\n",
    "ames_df = pd.DataFrame(data = {\"LotArea\": ames['Lot.Area'], \"GrLiv\": ames['Gr.Liv.Area'], \"OverallCond\": ames['Overall.Cond'], \"SalePrice\": ames['SalePrice']}\n",
    ")"
   ]
  }
 ],
 "metadata": {
  "kernelspec": {
   "display_name": "Python 3.9.7 ('base')",
   "language": "python",
   "name": "python3"
  },
  "language_info": {
   "codemirror_mode": {
    "name": "ipython",
    "version": 3
   },
   "file_extension": ".py",
   "mimetype": "text/x-python",
   "name": "python",
   "nbconvert_exporter": "python",
   "pygments_lexer": "ipython3",
   "version": "3.9.7"
  },
  "orig_nbformat": 4,
  "vscode": {
   "interpreter": {
    "hash": "3edbd7b23b0fac25ed01096b34e5f59511cb659c0b1d4bb21fa4d1eb2f403c11"
   }
  }
 },
 "nbformat": 4,
 "nbformat_minor": 2
}
